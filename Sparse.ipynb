{
 "cells": [
  {
   "cell_type": "code",
   "execution_count": 27,
   "metadata": {},
   "outputs": [],
   "source": [
    "import numpy as np\n",
    "import scipy\n",
    "from sklearn.datasets import fetch_20newsgroups\n",
    "from sklearn import decomposition\n",
    "from sklearn.decomposition import NMF\n",
    "from scipy import linalg\n",
    "import matplotlib.pyplot as plt"
   ]
  },
  {
   "cell_type": "code",
   "execution_count": 29,
   "metadata": {},
   "outputs": [
    {
     "name": "stdout",
     "output_type": "stream",
     "text": [
      "[[ 0.21  0.76  0.69  0.98  0.17]\n",
      " [ 0.67  0.84  0.19  0.94  0.03]\n",
      " [ 0.58  0.71  0.11  0.75  0.7 ]\n",
      " [ 0.44  0.86  0.54  0.79  0.32]\n",
      " [ 0.3   0.94  0.9   0.53  0.62]]\n"
     ]
    }
   ],
   "source": [
    "A = scipy.sparse.random(5, 10, density = 0.1)\n",
    "A\n",
    "# print(A.A)\n",
    "\n",
    "A = np.random.rand(5, 5)\n",
    "print(np.around(A, 2))"
   ]
  },
  {
   "cell_type": "code",
   "execution_count": 30,
   "metadata": {},
   "outputs": [],
   "source": [
    "# Do svd:\n",
    "U, s, VT = linalg.svd(A)"
   ]
  },
  {
   "cell_type": "code",
   "execution_count": 31,
   "metadata": {},
   "outputs": [
    {
     "name": "stdout",
     "output_type": "stream",
     "text": [
      "[[-0.45  0.15 -0.56 -0.66  0.17]\n",
      " [-0.44 -0.63 -0.28  0.48  0.33]\n",
      " [-0.41 -0.33  0.74 -0.41  0.06]\n",
      " [-0.46  0.03 -0.09  0.16 -0.87]\n",
      " [-0.48  0.69  0.22  0.38  0.32]]\n",
      "[ 3.06  0.78  0.62  0.26  0.  ]\n",
      "[[-0.32 -0.6  -0.37 -0.58 -0.27]\n",
      " [-0.46  0.04  0.75 -0.39  0.27]\n",
      " [ 0.25  0.   -0.33 -0.32  0.85]\n",
      " [ 0.51  0.45  0.09 -0.63 -0.36]\n",
      " [ 0.61 -0.66  0.43  0.07  0.02]]\n"
     ]
    }
   ],
   "source": [
    "print(np.around(U, 2))\n",
    "print(np.around(s, 2))\n",
    "print(np.around(VT, 2))"
   ]
  },
  {
   "cell_type": "code",
   "execution_count": 49,
   "metadata": {},
   "outputs": [],
   "source": [
    "# Do NMF\n",
    "model = NMF(n_components=5, init='random')\n",
    "W = model.fit_transform(A)\n",
    "H = model.components_"
   ]
  },
  {
   "cell_type": "code",
   "execution_count": 50,
   "metadata": {},
   "outputs": [
    {
     "name": "stdout",
     "output_type": "stream",
     "text": [
      "[[ 0.89  0.63  0.    0.    0.29]\n",
      " [ 1.07  0.08  0.    0.84  0.  ]\n",
      " [ 0.89  0.    0.4   0.3   0.  ]\n",
      " [ 0.73  0.39  0.08  0.45  0.34]\n",
      " [ 0.36  0.43  0.09  0.33  0.98]]\n",
      "[[ 0.24  0.39  0.13  0.8   0.02]\n",
      " [ 0.    0.49  0.66  0.42  0.05]\n",
      " [ 0.55  0.57  0.    0.06  1.72]\n",
      " [ 0.48  0.46  0.    0.07  0.  ]\n",
      " [ 0.    0.39  0.58  0.03  0.44]]\n"
     ]
    }
   ],
   "source": [
    "print(np.around(W, 2))\n",
    "print(np.around(H, 2))"
   ]
  },
  {
   "cell_type": "code",
   "execution_count": null,
   "metadata": {},
   "outputs": [],
   "source": []
  }
 ],
 "metadata": {
  "kernelspec": {
   "display_name": "Python 3",
   "language": "python",
   "name": "python3"
  },
  "language_info": {
   "codemirror_mode": {
    "name": "ipython",
    "version": 3
   },
   "file_extension": ".py",
   "mimetype": "text/x-python",
   "name": "python",
   "nbconvert_exporter": "python",
   "pygments_lexer": "ipython3",
   "version": "3.6.9"
  }
 },
 "nbformat": 4,
 "nbformat_minor": 4
}
