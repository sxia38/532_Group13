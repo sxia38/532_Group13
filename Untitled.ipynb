{
 "cells": [
  {
   "cell_type": "markdown",
   "metadata": {},
   "source": [
    "### 1.4 Introduction to Non-Negative Matrix Factrization\n",
    "Non-negative matrix factrization (NMF for short), also called non-negative matrix approximation, is a matrix factrization method in multivariate analysis. \n",
    "> **Non-negative matrix factorization (NMF)** Given a non-negative matrix A, find non-negative matrix factors W and H such that:  \n",
    "$$ V = WH $$  \n",
    "Note that in the above equation, all three matrices A, W and H are non-negative. "
   ]
  },
  {
   "cell_type": "code",
   "execution_count": null,
   "metadata": {},
   "outputs": [],
   "source": []
  },
  {
   "cell_type": "code",
   "execution_count": null,
   "metadata": {},
   "outputs": [],
   "source": []
  }
 ],
 "metadata": {
  "kernelspec": {
   "display_name": "Python 3",
   "language": "python",
   "name": "python3"
  },
  "language_info": {
   "codemirror_mode": {
    "name": "ipython",
    "version": 3
   },
   "file_extension": ".py",
   "mimetype": "text/x-python",
   "name": "python",
   "nbconvert_exporter": "python",
   "pygments_lexer": "ipython3",
   "version": "3.6.9"
  }
 },
 "nbformat": 4,
 "nbformat_minor": 4
}
