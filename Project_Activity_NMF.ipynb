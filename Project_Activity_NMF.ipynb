{
 "cells": [
  {
   "cell_type": "markdown",
   "metadata": {},
   "source": [
    "# Activity: NMF for Topic Modeling   \n",
    "### Fetch and preprocessing documents"
   ]
  },
  {
   "cell_type": "code",
   "execution_count": 2,
   "metadata": {},
   "outputs": [],
   "source": [
    "import numpy as np\n",
    "from sklearn.datasets import fetch_20newsgroups\n",
    "from sklearn.feature_extraction.text import TfidfVectorizer\n",
    "from sklearn import decomposition\n",
    "from sklearn.decomposition import TruncatedSVD\n",
    "from sklearn.decomposition import NMF\n",
    "from scipy import linalg\n",
    "import pandas as pd"
   ]
  },
  {
   "cell_type": "markdown",
   "metadata": {},
   "source": [
    "Here we get some documents from scikit-learn 's \"The 20 newsgroups text dataset\" database. Please visit this website https://scikit-learn.org/0.19/datasets/twenty_newsgroups.html for details about this dataset if you are interested.     \n",
    "-- The scikit_learn 20 newsgroups dataset comprises around 18000 newsgroups posts on 20 topics, and here we choose 4 topics from them and pick 10 random documents within them.  \n",
    "-- Please upload the \"20news-bydate_py3.pkz\" file to the same folder/directory as this file if you cannot download the dataset using UW Jupyter-Lab. "
   ]
  },
  {
   "cell_type": "code",
   "execution_count": 3,
   "metadata": {},
   "outputs": [],
   "source": [
    "# Set number of topics\n",
    "NUM = 10\n",
    "# Pick categories \n",
    "categories = ['alt.atheism', 'talk.religion.misc',\n",
    "              'comp.graphics', 'sci.space']\n",
    "# Remove headers, footers and quotes\n",
    "remove = ('headers', 'footers', 'quotes')\n",
    "# Get data\n",
    "data_ALL = fetch_20newsgroups(data_home = './', categories = categories, subset = 'train', shuffle = True, random_state = 42, remove = remove)"
   ]
  },
  {
   "cell_type": "markdown",
   "metadata": {},
   "source": [
    "Show the document categories: "
   ]
  },
  {
   "cell_type": "code",
   "execution_count": 4,
   "metadata": {},
   "outputs": [
    {
     "name": "stdout",
     "output_type": "stream",
     "text": [
      "['alt.atheism', 'comp.graphics', 'sci.space', 'talk.religion.misc']\n"
     ]
    }
   ],
   "source": [
    "from pprint import pprint\n",
    "pprint(list(data_ALL.target_names))"
   ]
  },
  {
   "cell_type": "markdown",
   "metadata": {},
   "source": [
    "We can have a peek at the content of some articles:"
   ]
  },
  {
   "cell_type": "code",
   "execution_count": 5,
   "metadata": {},
   "outputs": [
    {
     "name": "stdout",
     "output_type": "stream",
     "text": [
      "Hi,\n",
      "\n",
      "I've noticed that if you only save a model (with all your mapping planes\n",
      "positioned carefully) to a .3DS file that when you reload it after restarting\n",
      "3DS, they are given a default position and orientation.  But if you save\n",
      "to a .PRJ file their positions/orientation are preserved.  Does anyone\n",
      "know why this information is not stored in the .3DS file?  Nothing is\n",
      "explicitly said in the manual about saving texture rules in the .PRJ file. \n",
      "I'd like to be able to read the texture rule information, does anyone have \n",
      "the format for the .PRJ file?\n",
      "\n",
      "Is the .CEL file format available from somewhere?\n",
      "\n",
      "Rych\n",
      "--------------------\n",
      "\n",
      "\n",
      "Seems to be, barring evidence to the contrary, that Koresh was simply\n",
      "another deranged fanatic who thought it neccessary to take a whole bunch of\n",
      "folks with him, children and all, to satisfy his delusional mania. Jim\n",
      "Jones, circa 1993.\n",
      "\n",
      "\n",
      "Nope - fruitcakes like Koresh have been demonstrating such evil corruption\n",
      "for centuries.\n",
      "--------------------\n",
      "\n",
      " >In article <1993Apr19.020359.26996@sq.sq.com>, msb@sq.sq.com (Mark Brader) \n",
      "\n",
      "MB>                                                             So the\n",
      "MB> 1970 figure seems unlikely to actually be anything but a perijove.\n",
      "\n",
      "JG>Sorry, _perijoves_...I'm not used to talking this language.\n",
      "\n",
      "Couldn't we just say periapsis or apoapsis?\n",
      "\n",
      " \n"
     ]
    }
   ],
   "source": [
    "print(\"\\n--------------------\\n\".join(data_ALL.data[:3]))"
   ]
  },
  {
   "cell_type": "markdown",
   "metadata": {},
   "source": [
    "Finally, we need to vectorize the documents, i.e., to transform documents into document-words matrix.  \n",
    "Here, we apply Tf-id vectorization and removing english stop-words from documents:"
   ]
  },
  {
   "cell_type": "code",
   "execution_count": 6,
   "metadata": {},
   "outputs": [],
   "source": [
    "# Vectorize Documents Using Tf-id\n",
    "vectorizer = TfidfVectorizer(stop_words = 'english')\n",
    "vectors = vectorizer.fit_transform(data_ALL.data[:NUM])\n",
    "dictionary = vectorizer.get_feature_names()"
   ]
  },
  {
   "cell_type": "markdown",
   "metadata": {},
   "source": [
    "### Classifying Documents Using SVD and NMF "
   ]
  },
  {
   "cell_type": "code",
   "execution_count": 23,
   "metadata": {},
   "outputs": [],
   "source": [
    "# Show topic - top words\n",
    "num_top_words = 8\n",
    "def show_topics(a):\n",
    "    top_words = lambda t: [dictionary[i] for i in np.argsort(t)[:-num_top_words-1:-1]]\n",
    "    topic_words = ([top_words(t) for t in a])\n",
    "    return [' '.join(t) for t in topic_words]"
   ]
  },
  {
   "cell_type": "markdown",
   "metadata": {},
   "source": [
    "First we will use SVD to analysis the data:  \n",
    "-- $A = U\\Sigma V^T$, where $V^T$ is the topic-encoded matrix.  \n",
    "-- Here we use truncatedSVD, and only display the top 4 most important components. "
   ]
  },
  {
   "cell_type": "code",
   "execution_count": 24,
   "metadata": {},
   "outputs": [],
   "source": [
    "# Do SVD\n",
    "\n",
    "svd = TruncatedSVD(n_components = 4)\n",
    "lsa = svd.fit_transform(vectors)"
   ]
  },
  {
   "cell_type": "markdown",
   "metadata": {},
   "source": [
    "Display the topic-encoded data:  \n",
    "-- The columns represent each topic from t1 to t4.  \n",
    "-- The rows represent documents.   \n",
    "-- We can interprete the topic-encoded matrix as representing how each document is classified into one or more of the 4 topics. "
   ]
  },
  {
   "cell_type": "code",
   "execution_count": 25,
   "metadata": {},
   "outputs": [
    {
     "data": {
      "text/html": [
       "<div>\n",
       "<style scoped>\n",
       "    .dataframe tbody tr th:only-of-type {\n",
       "        vertical-align: middle;\n",
       "    }\n",
       "\n",
       "    .dataframe tbody tr th {\n",
       "        vertical-align: top;\n",
       "    }\n",
       "\n",
       "    .dataframe thead th {\n",
       "        text-align: right;\n",
       "    }\n",
       "</style>\n",
       "<table border=\"1\" class=\"dataframe\">\n",
       "  <thead>\n",
       "    <tr style=\"text-align: right;\">\n",
       "      <th></th>\n",
       "      <th>topic 1</th>\n",
       "      <th>topic 2</th>\n",
       "      <th>topic 3</th>\n",
       "      <th>topic 4</th>\n",
       "    </tr>\n",
       "  </thead>\n",
       "  <tbody>\n",
       "    <tr>\n",
       "      <th>0</th>\n",
       "      <td>0.304882</td>\n",
       "      <td>-0.209587</td>\n",
       "      <td>0.154434</td>\n",
       "      <td>0.625631</td>\n",
       "    </tr>\n",
       "    <tr>\n",
       "      <th>1</th>\n",
       "      <td>0.105634</td>\n",
       "      <td>0.053939</td>\n",
       "      <td>-0.191416</td>\n",
       "      <td>-0.177044</td>\n",
       "    </tr>\n",
       "    <tr>\n",
       "      <th>2</th>\n",
       "      <td>0.190917</td>\n",
       "      <td>0.442981</td>\n",
       "      <td>0.443206</td>\n",
       "      <td>-0.071093</td>\n",
       "    </tr>\n",
       "    <tr>\n",
       "      <th>3</th>\n",
       "      <td>0.360914</td>\n",
       "      <td>0.355862</td>\n",
       "      <td>-0.462616</td>\n",
       "      <td>0.159895</td>\n",
       "    </tr>\n",
       "    <tr>\n",
       "      <th>4</th>\n",
       "      <td>0.508072</td>\n",
       "      <td>-0.411197</td>\n",
       "      <td>0.113244</td>\n",
       "      <td>0.249371</td>\n",
       "    </tr>\n",
       "    <tr>\n",
       "      <th>5</th>\n",
       "      <td>0.263145</td>\n",
       "      <td>0.466878</td>\n",
       "      <td>-0.442581</td>\n",
       "      <td>0.215441</td>\n",
       "    </tr>\n",
       "    <tr>\n",
       "      <th>6</th>\n",
       "      <td>0.365221</td>\n",
       "      <td>-0.085046</td>\n",
       "      <td>-0.077528</td>\n",
       "      <td>-0.368483</td>\n",
       "    </tr>\n",
       "    <tr>\n",
       "      <th>7</th>\n",
       "      <td>0.226849</td>\n",
       "      <td>0.370840</td>\n",
       "      <td>0.549404</td>\n",
       "      <td>0.121890</td>\n",
       "    </tr>\n",
       "    <tr>\n",
       "      <th>8</th>\n",
       "      <td>0.522185</td>\n",
       "      <td>-0.330183</td>\n",
       "      <td>-0.049979</td>\n",
       "      <td>-0.373300</td>\n",
       "    </tr>\n",
       "    <tr>\n",
       "      <th>9</th>\n",
       "      <td>0.244708</td>\n",
       "      <td>0.206801</td>\n",
       "      <td>0.180597</td>\n",
       "      <td>-0.399291</td>\n",
       "    </tr>\n",
       "  </tbody>\n",
       "</table>\n",
       "</div>"
      ],
      "text/plain": [
       "    topic 1   topic 2   topic 3   topic 4\n",
       "0  0.304882 -0.209587  0.154434  0.625631\n",
       "1  0.105634  0.053939 -0.191416 -0.177044\n",
       "2  0.190917  0.442981  0.443206 -0.071093\n",
       "3  0.360914  0.355862 -0.462616  0.159895\n",
       "4  0.508072 -0.411197  0.113244  0.249371\n",
       "5  0.263145  0.466878 -0.442581  0.215441\n",
       "6  0.365221 -0.085046 -0.077528 -0.368483\n",
       "7  0.226849  0.370840  0.549404  0.121890\n",
       "8  0.522185 -0.330183 -0.049979 -0.373300\n",
       "9  0.244708  0.206801  0.180597 -0.399291"
      ]
     },
     "metadata": {},
     "output_type": "display_data"
    }
   ],
   "source": [
    "# Display Topic-Encoded-Matrix\n",
    "topic_encoded_df = pd.DataFrame(lsa, columns = [\"topic 1\", \"topic 2\", \"topic 3\", \"topic 4\"])\n",
    "display(topic_encoded_df[[\"topic 1\", \"topic 2\", \"topic 3\", \"topic 4\"]])"
   ]
  },
  {
   "cell_type": "markdown",
   "metadata": {},
   "source": [
    "Next let us see what the topics consist of:  \n",
    "-- Each line is the top-8 words of the corresponding topic.  \n",
    "-- Given the top words, what do you think the topics are?  "
   ]
  },
  {
   "cell_type": "code",
   "execution_count": 26,
   "metadata": {},
   "outputs": [
    {
     "data": {
      "text/plain": [
       "['lunar orbit file does oh darling clementine like',\n",
       " 'sq arm list theists wingate challenges just mb',\n",
       " 'arm sq ll say com mb used talking',\n",
       " 'file prj 3ds does orientation information format texture']"
      ]
     },
     "execution_count": 26,
     "metadata": {},
     "output_type": "execute_result"
    }
   ],
   "source": [
    "# Show topic - top words\n",
    "show_topics(svd.components_[:4])"
   ]
  },
  {
   "cell_type": "markdown",
   "metadata": {},
   "source": [
    "Second, we will use NMF to analysis the data:  \n",
    "-- $A = WH$, where $H$ is the topic-encoded matrix.  \n",
    "-- To match our result in SVD, we will set $k = 4$ in NMF.   \n",
    "-- You can change $k$ manually in the following block. "
   ]
  },
  {
   "cell_type": "code",
   "execution_count": 35,
   "metadata": {},
   "outputs": [],
   "source": [
    "# Do NMF\n",
    "\n",
    "# Set component number\n",
    "# You can change the value k here:\n",
    "k = 4\n",
    "\n",
    "nmf = NMF(n_components = k)\n",
    "lsa = nmf.fit_transform(vectors)"
   ]
  },
  {
   "cell_type": "markdown",
   "metadata": {},
   "source": [
    "Display the topic-encoded data:  \n",
    "-- The interpretation of the matrix is similar to that of SVD.  "
   ]
  },
  {
   "cell_type": "code",
   "execution_count": 36,
   "metadata": {},
   "outputs": [],
   "source": [
    "def createList(k): \n",
    "    if (k == 1): \n",
    "        return k  \n",
    "    else:   \n",
    "        i = 1\n",
    "        # Create empty list \n",
    "        res = []   \n",
    "        # loop to append successors to  \n",
    "        # list until r2 is reached. \n",
    "        while(i < k + 1 ):               \n",
    "            res.append(\"topic \" + str(i)) \n",
    "            i += 1\n",
    "        return res "
   ]
  },
  {
   "cell_type": "code",
   "execution_count": 37,
   "metadata": {},
   "outputs": [
    {
     "data": {
      "text/html": [
       "<div>\n",
       "<style scoped>\n",
       "    .dataframe tbody tr th:only-of-type {\n",
       "        vertical-align: middle;\n",
       "    }\n",
       "\n",
       "    .dataframe tbody tr th {\n",
       "        vertical-align: top;\n",
       "    }\n",
       "\n",
       "    .dataframe thead th {\n",
       "        text-align: right;\n",
       "    }\n",
       "</style>\n",
       "<table border=\"1\" class=\"dataframe\">\n",
       "  <thead>\n",
       "    <tr style=\"text-align: right;\">\n",
       "      <th></th>\n",
       "      <th>topic 1</th>\n",
       "      <th>topic 2</th>\n",
       "      <th>topic 3</th>\n",
       "      <th>topic 4</th>\n",
       "    </tr>\n",
       "  </thead>\n",
       "  <tbody>\n",
       "    <tr>\n",
       "      <th>0</th>\n",
       "      <td>0.00</td>\n",
       "      <td>0.00</td>\n",
       "      <td>0.00</td>\n",
       "      <td>1.18</td>\n",
       "    </tr>\n",
       "    <tr>\n",
       "      <th>1</th>\n",
       "      <td>0.00</td>\n",
       "      <td>0.15</td>\n",
       "      <td>0.00</td>\n",
       "      <td>0.06</td>\n",
       "    </tr>\n",
       "    <tr>\n",
       "      <th>2</th>\n",
       "      <td>0.00</td>\n",
       "      <td>0.00</td>\n",
       "      <td>0.67</td>\n",
       "      <td>0.00</td>\n",
       "    </tr>\n",
       "    <tr>\n",
       "      <th>3</th>\n",
       "      <td>0.00</td>\n",
       "      <td>0.67</td>\n",
       "      <td>0.00</td>\n",
       "      <td>0.00</td>\n",
       "    </tr>\n",
       "    <tr>\n",
       "      <th>4</th>\n",
       "      <td>0.43</td>\n",
       "      <td>0.00</td>\n",
       "      <td>0.00</td>\n",
       "      <td>0.06</td>\n",
       "    </tr>\n",
       "    <tr>\n",
       "      <th>5</th>\n",
       "      <td>0.00</td>\n",
       "      <td>0.67</td>\n",
       "      <td>0.00</td>\n",
       "      <td>0.00</td>\n",
       "    </tr>\n",
       "    <tr>\n",
       "      <th>6</th>\n",
       "      <td>0.33</td>\n",
       "      <td>0.01</td>\n",
       "      <td>0.00</td>\n",
       "      <td>0.00</td>\n",
       "    </tr>\n",
       "    <tr>\n",
       "      <th>7</th>\n",
       "      <td>0.00</td>\n",
       "      <td>0.00</td>\n",
       "      <td>0.69</td>\n",
       "      <td>0.01</td>\n",
       "    </tr>\n",
       "    <tr>\n",
       "      <th>8</th>\n",
       "      <td>0.52</td>\n",
       "      <td>0.00</td>\n",
       "      <td>0.00</td>\n",
       "      <td>0.00</td>\n",
       "    </tr>\n",
       "    <tr>\n",
       "      <th>9</th>\n",
       "      <td>0.02</td>\n",
       "      <td>0.01</td>\n",
       "      <td>0.43</td>\n",
       "      <td>0.00</td>\n",
       "    </tr>\n",
       "  </tbody>\n",
       "</table>\n",
       "</div>"
      ],
      "text/plain": [
       "   topic 1  topic 2  topic 3  topic 4\n",
       "0     0.00     0.00     0.00     1.18\n",
       "1     0.00     0.15     0.00     0.06\n",
       "2     0.00     0.00     0.67     0.00\n",
       "3     0.00     0.67     0.00     0.00\n",
       "4     0.43     0.00     0.00     0.06\n",
       "5     0.00     0.67     0.00     0.00\n",
       "6     0.33     0.01     0.00     0.00\n",
       "7     0.00     0.00     0.69     0.01\n",
       "8     0.52     0.00     0.00     0.00\n",
       "9     0.02     0.01     0.43     0.00"
      ]
     },
     "metadata": {},
     "output_type": "display_data"
    }
   ],
   "source": [
    "topic_encoded_df = pd.DataFrame(lsa, columns = createList(k))\n",
    "display(topic_encoded_df.round(decimals=2))"
   ]
  },
  {
   "cell_type": "markdown",
   "metadata": {},
   "source": [
    "Again, let us see what the topics consist of:  \n",
    "-- Each line is the top-8 words of the corresponding topic.  \n",
    "-- Given the top words, what do you think the topics are?  "
   ]
  },
  {
   "cell_type": "code",
   "execution_count": 38,
   "metadata": {},
   "outputs": [
    {
     "data": {
      "text/plain": [
       "['lunar orbit clementine oh darling exploration blurb city',\n",
       " 'challenges wingate list theists mr quite bobby peace',\n",
       " 'arm sq processing com mb say ll used',\n",
       " 'file 3ds prj format save texture orientation information']"
      ]
     },
     "execution_count": 38,
     "metadata": {},
     "output_type": "execute_result"
    }
   ],
   "source": [
    "# Show topic - top words\n",
    "show_topics(nmf.components_[:k])"
   ]
  },
  {
   "cell_type": "markdown",
   "metadata": {},
   "source": [
    "### Questions:   \n",
    "1. Compare the result from SVD and NMF, especially the topic-encoded matrix. \n",
    "2. Remeber that NMF is not unique with respect to component number k. Try differen values of k and see what result would you get. "
   ]
  },
  {
   "cell_type": "code",
   "execution_count": null,
   "metadata": {},
   "outputs": [],
   "source": []
  }
 ],
 "metadata": {
  "kernelspec": {
   "display_name": "Python 3",
   "language": "python",
   "name": "python3"
  },
  "language_info": {
   "codemirror_mode": {
    "name": "ipython",
    "version": 3
   },
   "file_extension": ".py",
   "mimetype": "text/x-python",
   "name": "python",
   "nbconvert_exporter": "python",
   "pygments_lexer": "ipython3",
   "version": "3.6.9"
  }
 },
 "nbformat": 4,
 "nbformat_minor": 4
}
