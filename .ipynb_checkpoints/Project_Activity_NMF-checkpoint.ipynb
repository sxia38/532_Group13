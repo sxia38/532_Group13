{
 "cells": [
  {
   "cell_type": "markdown",
   "metadata": {},
   "source": [
    "# Activity: NMF for Topic Modeling   \n",
    "### Fetch and preprocessing documents"
   ]
  },
  {
   "cell_type": "code",
   "execution_count": 2,
   "metadata": {},
   "outputs": [],
   "source": [
    "import numpy as np\n",
    "from sklearn.datasets import fetch_20newsgroups\n",
    "from sklearn.feature_extraction.text import TfidfVectorizer\n",
    "from sklearn import decomposition\n",
    "from sklearn.decomposition import TruncatedSVD\n",
    "from sklearn.decomposition import NMF\n",
    "from scipy import linalg\n",
    "import pandas as pd"
   ]
  },
  {
   "cell_type": "markdown",
   "metadata": {},
   "source": [
    "Here we get some documents from scikit-learn 's \"The 20 newsgroups text dataset\" database.  \n",
    "The scikit_learn 20 newsgroups dataset comprises around 18000 newsgroups posts on 20 topics, and here we choose 4 topics from them and pick 10 random documents within them. \n",
    "Here we get some documents from scikit-learn 's \"The 20 newsgroups text dataset\" database.  \n",
    "-- The scikit_learn 20 newsgroups dataset comprises around 18000 newsgroups posts on 20 topics, and here we choose 4 topics from them and pick 10 random documents within them.  \n",
    "-- Please upload the \"20news-bydate_py3.pkz\" file to the same folder/directory as this file if you cannot download the dataset using UW Jupyter-Lab. "
   ]
  },
  {
   "cell_type": "code",
   "execution_count": 3,
   "metadata": {},
   "outputs": [],
   "source": [
    "# Set number of topics\n",
    "NUM = 10\n",
    "# Pick categories \n",
    "categories = ['alt.atheism', 'talk.religion.misc',\n",
    "              'comp.graphics', 'sci.space']\n",
    "# Remove headers, footers and quotes\n",
    "remove = ('headers', 'footers', 'quotes')\n",
    "# Get data\n",
    "data_ALL = fetch_20newsgroups(data_home = './', categories = categories, subset = 'train', shuffle = True, random_state = 42, remove = remove)"
   ]
  },
  {
   "cell_type": "markdown",
   "metadata": {},
   "source": [
    "Show the document categories: "
   ]
  },
  {
   "cell_type": "code",
   "execution_count": 82,
   "metadata": {},
   "outputs": [
    {
     "name": "stdout",
     "output_type": "stream",
     "text": [
      "['alt.atheism', 'comp.graphics', 'sci.space', 'talk.religion.misc']\n"
     ]
    }
   ],
   "source": [
    "from pprint import pprint\n",
    "pprint(list(data_ALL.target_names))"
   ]
  },
  {
   "cell_type": "markdown",
   "metadata": {},
   "source": [
    "We can have a peek at the content of some articles:"
   ]
  },
  {
   "cell_type": "code",
   "execution_count": 84,
   "metadata": {},
   "outputs": [
    {
     "name": "stdout",
     "output_type": "stream",
     "text": [
      "Hi,\n",
      "\n",
      "I've noticed that if you only save a model (with all your mapping planes\n",
      "positioned carefully) to a .3DS file that when you reload it after restarting\n",
      "3DS, they are given a default position and orientation.  But if you save\n",
      "to a .PRJ file their positions/orientation are preserved.  Does anyone\n",
      "know why this information is not stored in the .3DS file?  Nothing is\n",
      "explicitly said in the manual about saving texture rules in the .PRJ file. \n",
      "I'd like to be able to read the texture rule information, does anyone have \n",
      "the format for the .PRJ file?\n",
      "\n",
      "Is the .CEL file format available from somewhere?\n",
      "\n",
      "Rych\n",
      "--------------------\n",
      "\n",
      "\n",
      "Seems to be, barring evidence to the contrary, that Koresh was simply\n",
      "another deranged fanatic who thought it neccessary to take a whole bunch of\n",
      "folks with him, children and all, to satisfy his delusional mania. Jim\n",
      "Jones, circa 1993.\n",
      "\n",
      "\n",
      "Nope - fruitcakes like Koresh have been demonstrating such evil corruption\n",
      "for centuries.\n",
      "--------------------\n",
      "\n",
      " >In article <1993Apr19.020359.26996@sq.sq.com>, msb@sq.sq.com (Mark Brader) \n",
      "\n",
      "MB>                                                             So the\n",
      "MB> 1970 figure seems unlikely to actually be anything but a perijove.\n",
      "\n",
      "JG>Sorry, _perijoves_...I'm not used to talking this language.\n",
      "\n",
      "Couldn't we just say periapsis or apoapsis?\n",
      "\n",
      " \n"
     ]
    }
   ],
   "source": [
    "print(\"\\n--------------------\\n\".join(data_ALL.data[:3]))"
   ]
  },
  {
   "cell_type": "markdown",
   "metadata": {},
   "source": [
    "Finally, we need to vectorize the documents, i.e., to transform documents into document-words matrix.  \n",
    "Here, we apply Tf-id vectorization and removing english stop-words from documents:"
   ]
  },
  {
   "cell_type": "code",
   "execution_count": 86,
   "metadata": {},
   "outputs": [],
   "source": [
    "# Vectorize Documents Using Tf-id\n",
    "vectorizer = TfidfVectorizer(stop_words = 'english')\n",
    "vectors = vectorizer.fit_transform(data_ALL.data[:NUM])\n",
    "dictionary = vectorizer.get_feature_names()"
   ]
  },
  {
   "cell_type": "markdown",
   "metadata": {},
   "source": [
    "### Classifying Documents Using SVD and NMF "
   ]
  },
  {
   "cell_type": "code",
   "execution_count": 88,
   "metadata": {},
   "outputs": [],
   "source": [
    "# Show topic - top words\n",
    "num_top_words = 8\n",
    "def show_topics(a):\n",
    "    top_words = lambda t: [dictionary[i] for i in np.argsort(t)[:-num_top_words-1:-1]]\n",
    "    topic_words = ([top_words(t) for t in a])\n",
    "    return [' '.join(t) for t in topic_words]"
   ]
  },
  {
   "cell_type": "markdown",
   "metadata": {},
   "source": [
    "First we will use SVD to analysis the data:  \n",
    "-- $A = U\\Sigma V^T$, where $V^T$ is the topic-encoded matrix.  \n",
    "-- Here we use truncatedSVD, and only display the top 4 most important components. "
   ]
  },
  {
   "cell_type": "code",
   "execution_count": 89,
   "metadata": {},
   "outputs": [],
   "source": [
    "svd = TruncatedSVD(n_components = 4)\n",
    "lsa = svd.fit_transform(vectors)"
   ]
  },
  {
   "cell_type": "markdown",
   "metadata": {},
   "source": [
    "Display the topic-encoded data:  \n",
    "-- The columns represent each topic from t1 to t4.  \n",
    "-- The rows represent documents.   \n",
    "-- We can interprete the topic-encoded matrix as representing how each document is classified into one or more of the 4 topics. "
   ]
  },
  {
   "cell_type": "code",
   "execution_count": 97,
   "metadata": {},
   "outputs": [
    {
     "data": {
      "text/html": [
       "<div>\n",
       "<style scoped>\n",
       "    .dataframe tbody tr th:only-of-type {\n",
       "        vertical-align: middle;\n",
       "    }\n",
       "\n",
       "    .dataframe tbody tr th {\n",
       "        vertical-align: top;\n",
       "    }\n",
       "\n",
       "    .dataframe thead th {\n",
       "        text-align: right;\n",
       "    }\n",
       "</style>\n",
       "<table border=\"1\" class=\"dataframe\">\n",
       "  <thead>\n",
       "    <tr style=\"text-align: right;\">\n",
       "      <th></th>\n",
       "      <th>topic 1</th>\n",
       "      <th>topic 2</th>\n",
       "      <th>topic 3</th>\n",
       "      <th>topic 4</th>\n",
       "    </tr>\n",
       "  </thead>\n",
       "  <tbody>\n",
       "    <tr>\n",
       "      <th>0</th>\n",
       "      <td>0.000000</td>\n",
       "      <td>0.000000</td>\n",
       "      <td>0.000000</td>\n",
       "      <td>1.181887</td>\n",
       "    </tr>\n",
       "    <tr>\n",
       "      <th>1</th>\n",
       "      <td>0.000219</td>\n",
       "      <td>0.149265</td>\n",
       "      <td>0.000000</td>\n",
       "      <td>0.059506</td>\n",
       "    </tr>\n",
       "    <tr>\n",
       "      <th>2</th>\n",
       "      <td>0.000000</td>\n",
       "      <td>0.000000</td>\n",
       "      <td>0.666659</td>\n",
       "      <td>0.000000</td>\n",
       "    </tr>\n",
       "    <tr>\n",
       "      <th>3</th>\n",
       "      <td>0.003857</td>\n",
       "      <td>0.666955</td>\n",
       "      <td>0.000000</td>\n",
       "      <td>0.000000</td>\n",
       "    </tr>\n",
       "    <tr>\n",
       "      <th>4</th>\n",
       "      <td>0.427206</td>\n",
       "      <td>0.000000</td>\n",
       "      <td>0.000000</td>\n",
       "      <td>0.055612</td>\n",
       "    </tr>\n",
       "    <tr>\n",
       "      <th>5</th>\n",
       "      <td>0.000000</td>\n",
       "      <td>0.666310</td>\n",
       "      <td>0.000000</td>\n",
       "      <td>0.000000</td>\n",
       "    </tr>\n",
       "    <tr>\n",
       "      <th>6</th>\n",
       "      <td>0.331579</td>\n",
       "      <td>0.010488</td>\n",
       "      <td>0.000000</td>\n",
       "      <td>0.000000</td>\n",
       "    </tr>\n",
       "    <tr>\n",
       "      <th>7</th>\n",
       "      <td>0.000000</td>\n",
       "      <td>0.000000</td>\n",
       "      <td>0.687098</td>\n",
       "      <td>0.007965</td>\n",
       "    </tr>\n",
       "    <tr>\n",
       "      <th>8</th>\n",
       "      <td>0.515014</td>\n",
       "      <td>0.000000</td>\n",
       "      <td>0.000000</td>\n",
       "      <td>0.000000</td>\n",
       "    </tr>\n",
       "    <tr>\n",
       "      <th>9</th>\n",
       "      <td>0.020707</td>\n",
       "      <td>0.009533</td>\n",
       "      <td>0.431645</td>\n",
       "      <td>0.000000</td>\n",
       "    </tr>\n",
       "  </tbody>\n",
       "</table>\n",
       "</div>"
      ],
      "text/plain": [
       "    topic 1   topic 2   topic 3   topic 4\n",
       "0  0.000000  0.000000  0.000000  1.181887\n",
       "1  0.000219  0.149265  0.000000  0.059506\n",
       "2  0.000000  0.000000  0.666659  0.000000\n",
       "3  0.003857  0.666955  0.000000  0.000000\n",
       "4  0.427206  0.000000  0.000000  0.055612\n",
       "5  0.000000  0.666310  0.000000  0.000000\n",
       "6  0.331579  0.010488  0.000000  0.000000\n",
       "7  0.000000  0.000000  0.687098  0.007965\n",
       "8  0.515014  0.000000  0.000000  0.000000\n",
       "9  0.020707  0.009533  0.431645  0.000000"
      ]
     },
     "metadata": {},
     "output_type": "display_data"
    }
   ],
   "source": [
    "# Display Topic-Encoded-Matrix\n",
    "topic_encoded_df = pd.DataFrame(lsa, columns = [\"topic 1\", \"topic 2\", \"topic 3\", \"topic 4\"])\n",
    "display(topic_encoded_df[[\"topic 1\", \"topic 2\", \"topic 3\", \"topic 4\"]])"
   ]
  },
  {
   "cell_type": "markdown",
   "metadata": {},
   "source": [
    "Next let us see what the topics consist of:  \n",
    "-- Each line is the top-8 words of the corresponding topic.  \n",
    "-- Given the top words, what do you think the topics are?  "
   ]
  },
  {
   "cell_type": "code",
   "execution_count": 94,
   "metadata": {},
   "outputs": [
    {
     "data": {
      "text/plain": [
       "['lunar orbit file does oh darling clementine like',\n",
       " 'sq arm list theists wingate challenges just mb',\n",
       " 'arm sq ll say com mb used talking',\n",
       " 'file prj 3ds does format orientation save texture']"
      ]
     },
     "execution_count": 94,
     "metadata": {},
     "output_type": "execute_result"
    }
   ],
   "source": [
    "show_topics(svd.components_[:4])"
   ]
  },
  {
   "cell_type": "markdown",
   "metadata": {},
   "source": [
    "Second, we will use NMF to analysis the data:  \n",
    "-- $A = WH$, where $H$ is the topic-encoded matrix. \n",
    "-- To match our result in SVD, we will set $k = 4$ in NMF.  \n",
    "-- You can change k manually. "
   ]
  },
  {
   "cell_type": "code",
   "execution_count": 103,
   "metadata": {},
   "outputs": [],
   "source": [
    "# Do NMF\n",
    "\n",
    "# Set component number\n",
    "# You can change the value k here:\n",
    "k = 6\n",
    "\n",
    "nmf = NMF(n_components = k)\n",
    "lsa = nmf.fit_transform(vectors)"
   ]
  },
  {
   "cell_type": "markdown",
   "metadata": {},
   "source": [
    "Display the topic-encoded data:  \n",
    "-- The interpretation of the matrix is similar to that of SVD.  "
   ]
  },
  {
   "cell_type": "code",
   "execution_count": 112,
   "metadata": {},
   "outputs": [],
   "source": [
    "def createList(k): \n",
    "    if (k == 1): \n",
    "        return k  \n",
    "    else:   \n",
    "        i = 1\n",
    "        # Create empty list \n",
    "        res = []   \n",
    "        # loop to append successors to  \n",
    "        # list until r2 is reached. \n",
    "        while(i < k + 1 ):               \n",
    "            res.append(\"topic \" + str(i)) \n",
    "            i += 1\n",
    "        return res "
   ]
  },
  {
   "cell_type": "code",
   "execution_count": 113,
   "metadata": {},
   "outputs": [
    {
     "data": {
      "text/html": [
       "<div>\n",
       "<style scoped>\n",
       "    .dataframe tbody tr th:only-of-type {\n",
       "        vertical-align: middle;\n",
       "    }\n",
       "\n",
       "    .dataframe tbody tr th {\n",
       "        vertical-align: top;\n",
       "    }\n",
       "\n",
       "    .dataframe thead th {\n",
       "        text-align: right;\n",
       "    }\n",
       "</style>\n",
       "<table border=\"1\" class=\"dataframe\">\n",
       "  <thead>\n",
       "    <tr style=\"text-align: right;\">\n",
       "      <th></th>\n",
       "      <th>topic 1</th>\n",
       "      <th>topic 2</th>\n",
       "      <th>topic 3</th>\n",
       "      <th>topic 4</th>\n",
       "      <th>topic 5</th>\n",
       "      <th>topic 6</th>\n",
       "    </tr>\n",
       "  </thead>\n",
       "  <tbody>\n",
       "    <tr>\n",
       "      <th>0</th>\n",
       "      <td>0.000000</td>\n",
       "      <td>0.000000</td>\n",
       "      <td>0.000000</td>\n",
       "      <td>1.151583</td>\n",
       "      <td>0.000086</td>\n",
       "      <td>0.000033</td>\n",
       "    </tr>\n",
       "    <tr>\n",
       "      <th>1</th>\n",
       "      <td>0.000000</td>\n",
       "      <td>0.000000</td>\n",
       "      <td>0.000000</td>\n",
       "      <td>0.000046</td>\n",
       "      <td>0.695439</td>\n",
       "      <td>0.000000</td>\n",
       "    </tr>\n",
       "    <tr>\n",
       "      <th>2</th>\n",
       "      <td>0.000000</td>\n",
       "      <td>0.000817</td>\n",
       "      <td>0.714051</td>\n",
       "      <td>0.000000</td>\n",
       "      <td>0.000000</td>\n",
       "      <td>0.003995</td>\n",
       "    </tr>\n",
       "    <tr>\n",
       "      <th>3</th>\n",
       "      <td>0.006940</td>\n",
       "      <td>0.637481</td>\n",
       "      <td>0.000000</td>\n",
       "      <td>0.004282</td>\n",
       "      <td>0.004070</td>\n",
       "      <td>0.001306</td>\n",
       "    </tr>\n",
       "    <tr>\n",
       "      <th>4</th>\n",
       "      <td>0.481941</td>\n",
       "      <td>0.000000</td>\n",
       "      <td>0.003768</td>\n",
       "      <td>0.032033</td>\n",
       "      <td>0.000000</td>\n",
       "      <td>0.000000</td>\n",
       "    </tr>\n",
       "    <tr>\n",
       "      <th>5</th>\n",
       "      <td>0.000000</td>\n",
       "      <td>0.641601</td>\n",
       "      <td>0.003265</td>\n",
       "      <td>0.000000</td>\n",
       "      <td>0.000000</td>\n",
       "      <td>0.000000</td>\n",
       "    </tr>\n",
       "    <tr>\n",
       "      <th>6</th>\n",
       "      <td>0.000000</td>\n",
       "      <td>0.000000</td>\n",
       "      <td>0.000000</td>\n",
       "      <td>0.000000</td>\n",
       "      <td>0.000000</td>\n",
       "      <td>0.992277</td>\n",
       "    </tr>\n",
       "    <tr>\n",
       "      <th>7</th>\n",
       "      <td>0.002383</td>\n",
       "      <td>0.000000</td>\n",
       "      <td>0.714563</td>\n",
       "      <td>0.006903</td>\n",
       "      <td>0.000000</td>\n",
       "      <td>0.000000</td>\n",
       "    </tr>\n",
       "    <tr>\n",
       "      <th>8</th>\n",
       "      <td>0.486091</td>\n",
       "      <td>0.000000</td>\n",
       "      <td>0.000000</td>\n",
       "      <td>0.000000</td>\n",
       "      <td>0.010811</td>\n",
       "      <td>0.016950</td>\n",
       "    </tr>\n",
       "    <tr>\n",
       "      <th>9</th>\n",
       "      <td>0.003501</td>\n",
       "      <td>0.002096</td>\n",
       "      <td>0.017064</td>\n",
       "      <td>0.000000</td>\n",
       "      <td>0.608360</td>\n",
       "      <td>0.000000</td>\n",
       "    </tr>\n",
       "  </tbody>\n",
       "</table>\n",
       "</div>"
      ],
      "text/plain": [
       "    topic 1   topic 2   topic 3   topic 4   topic 5   topic 6\n",
       "0  0.000000  0.000000  0.000000  1.151583  0.000086  0.000033\n",
       "1  0.000000  0.000000  0.000000  0.000046  0.695439  0.000000\n",
       "2  0.000000  0.000817  0.714051  0.000000  0.000000  0.003995\n",
       "3  0.006940  0.637481  0.000000  0.004282  0.004070  0.001306\n",
       "4  0.481941  0.000000  0.003768  0.032033  0.000000  0.000000\n",
       "5  0.000000  0.641601  0.003265  0.000000  0.000000  0.000000\n",
       "6  0.000000  0.000000  0.000000  0.000000  0.000000  0.992277\n",
       "7  0.002383  0.000000  0.714563  0.006903  0.000000  0.000000\n",
       "8  0.486091  0.000000  0.000000  0.000000  0.010811  0.016950\n",
       "9  0.003501  0.002096  0.017064  0.000000  0.608360  0.000000"
      ]
     },
     "metadata": {},
     "output_type": "display_data"
    }
   ],
   "source": [
    "topic_encoded_df = pd.DataFrame(lsa, columns = createList(k))\n",
    "display(topic_encoded_df[createList(k)])"
   ]
  },
  {
   "cell_type": "markdown",
   "metadata": {},
   "source": [
    "Again, let us see what the topics consist of:  \n",
    "-- Each line is the top-8 words of the corresponding topic.  \n",
    "-- Given the top words, what do you think the topics are?  "
   ]
  },
  {
   "cell_type": "code",
   "execution_count": 114,
   "metadata": {},
   "outputs": [
    {
     "data": {
      "text/plain": [
       "['lunar orbit manned crystal attend auspices aw exploration',\n",
       " 'wingate challenges theists list mr quite atheists peace',\n",
       " 'sq arm mb com say ll talking used',\n",
       " 'file prj 3ds format orientation save information texture',\n",
       " 'processing koresh sgi interested neccessary delusional simply corruption',\n",
       " 'darling oh clementine acronym dwelt elemental excavating experiment']"
      ]
     },
     "execution_count": 114,
     "metadata": {},
     "output_type": "execute_result"
    }
   ],
   "source": [
    "# Show topic - top words\n",
    "show_topics(nmf.components_[:k])"
   ]
  },
  {
   "cell_type": "markdown",
   "metadata": {},
   "source": [
    "### Questions:   \n",
    "1. Compare the result from SVD and NMF, especially the topic-encodement matrix. \n",
    "2. Remeber that NMF is not unique with respect to component number k. Try differen values of k and see what result would you get. "
   ]
  },
  {
   "cell_type": "code",
   "execution_count": null,
   "metadata": {},
   "outputs": [],
   "source": []
  }
 ],
 "metadata": {
  "kernelspec": {
   "display_name": "Python 3",
   "language": "python",
   "name": "python3"
  },
  "language_info": {
   "codemirror_mode": {
    "name": "ipython",
    "version": 3
   },
   "file_extension": ".py",
   "mimetype": "text/x-python",
   "name": "python",
   "nbconvert_exporter": "python",
   "pygments_lexer": "ipython3",
   "version": "3.6.9"
  }
 },
 "nbformat": 4,
 "nbformat_minor": 4
}
