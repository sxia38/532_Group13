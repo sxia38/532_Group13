{
 "cells": [
  {
   "cell_type": "markdown",
   "metadata": {},
   "source": [
<<<<<<< HEAD
    "# Topic Modeling with SVD and NMF\n"
   ]
  },
  {
   "cell_type": "markdown",
   "metadata": {},
   "source": [
    "## 1. Backgroud\n",
    "### 1.1 Introduction to Topic Modeling\n",
    "### 1.2 Applying SVD to Topic Modeling Problems\n",
    "### 1.3 Introduction to Non-Negative Matrix Factrization\n",
    "### 1.4 Using NMF to Topic Modeling Problems\n"
   ]
  },
  {
   "cell_type": "markdown",
   "metadata": {},
   "source": [
    "## 2. Warm-Up\n",
    "## 3. Main Activity\n",
    "## 4. References\n",
    "## 5. Appendix"
=======
    "# Topic Modeling with SVD and NMF\n",
    "$c = \\sqrt{a^2 + b^2}$\n",
    "## Section 1\n",
    "This is a test line. "
>>>>>>> 298b9018514ecaedb911ea00239a451ec8fbb5b5
   ]
  },
  {
   "cell_type": "code",
   "execution_count": null,
   "metadata": {},
   "outputs": [],
   "source": []
  }
 ],
 "metadata": {
  "kernelspec": {
   "display_name": "Python 3",
   "language": "python",
   "name": "python3"
  },
  "language_info": {
   "codemirror_mode": {
    "name": "ipython",
    "version": 3
   },
   "file_extension": ".py",
   "mimetype": "text/x-python",
   "name": "python",
   "nbconvert_exporter": "python",
   "pygments_lexer": "ipython3",
   "version": "3.6.9"
  }
 },
 "nbformat": 4,
 "nbformat_minor": 2
}
