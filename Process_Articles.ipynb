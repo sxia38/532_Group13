{
 "cells": [
  {
   "cell_type": "code",
   "execution_count": 2,
   "metadata": {},
   "outputs": [],
   "source": [
    "# Require to install sklearn\n",
    "import numpy as np\n",
    "from sklearn.datasets import fetch_20newsgroups\n",
    "from sklearn import decomposition\n",
    "from scipy import linalg"
   ]
  },
  {
   "cell_type": "code",
   "execution_count": 7,
   "metadata": {},
   "outputs": [],
   "source": [
    "# Pick categories \n",
    "categories = ['alt.atheism', 'talk.religion.misc',\n",
    "              'comp.graphics', 'sci.space']\n",
    "# \n",
    "remove = ('headers', 'footers', 'quotes')\n",
    "# Get data\n",
    "\n",
    "data_1 = fetch_20newsgroups(subset = 'train', categories = ['alt.atheism'], remove = remove)\n",
    "data_2 = fetch_20newsgroups(subset = 'train', categories = ['talk.religion.misc'], remove = remove)\n",
    "data_3 = fetch_20newsgroups(subset = 'train', categories = ['comp.graphics'], remove = remove)\n",
    "data_4 = fetch_20newsgroups(subset = 'train', categories = ['sci.space'], remove = remove)\n"
   ]
  },
  {
   "cell_type": "code",
   "execution_count": null,
   "metadata": {},
   "outputs": [],
   "source": [
    "print(data_1)"
   ]
  }
 ],
 "metadata": {
  "kernelspec": {
   "display_name": "Python 3",
   "language": "python",
   "name": "python3"
  },
  "language_info": {
   "codemirror_mode": {
    "name": "ipython",
    "version": 3
   },
   "file_extension": ".py",
   "mimetype": "text/x-python",
   "name": "python",
   "nbconvert_exporter": "python",
   "pygments_lexer": "ipython3",
   "version": "3.6.9"
  }
 },
 "nbformat": 4,
 "nbformat_minor": 4
}
